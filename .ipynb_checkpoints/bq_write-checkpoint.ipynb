{
 "cells": [
  {
   "cell_type": "code",
   "execution_count": 3,
   "metadata": {},
   "outputs": [],
   "source": [
    "import pyspark\n",
    "from pyspark.sql import SparkSession"
   ]
  },
  {
   "cell_type": "code",
   "execution_count": null,
   "metadata": {},
   "outputs": [],
   "source": [
    "appName = \"DataProc testing\"\n",
    "master = \"local\"\n",
    "spark = SparkSession.builder.\\\n",
    "        appName(appName).\\\n",
    "        master(master).\\\n",
    "        getOrCreate()     "
   ]
  },
  {
   "cell_type": "code",
   "execution_count": null,
   "metadata": {},
   "outputs": [],
   "source": [
    "df = spark \\\n",
    "      .read \\\n",
    "      .option ( \"inferSchema\" , \"true\" ) \\\n",
    "      .option ( \"header\" , \"true\" ) \\\n",
    "      .csv ( \"gs://dataproc-testing/titanic.csv\")\n",
    "\n",
    "bucket = \"gs://dataproc-testing\"\n",
    "spark.conf.set('temporaryGcsBucket', bucket)\n",
    "df.createOrReplaceTempView('Titanic')\n",
    "\n",
    "complete_data = sparl.sql('Select * from Titanic')\n",
    "print (complete_data.show())\n",
    "complete_data.printschema()\n",
    "word_count.write.format('bigquery') \\\n",
    "  .option('table', 'titanic.titanic_data') \\\n",
    "  .save()\n"
   ]
  }
 ],
 "metadata": {
  "kernelspec": {
   "display_name": "Python 3",
   "language": "python",
   "name": "python3"
  },
  "language_info": {
   "codemirror_mode": {
    "name": "ipython",
    "version": 3
   },
   "file_extension": ".py",
   "mimetype": "text/x-python",
   "name": "python",
   "nbconvert_exporter": "python",
   "pygments_lexer": "ipython3",
   "version": "3.7.4"
  }
 },
 "nbformat": 4,
 "nbformat_minor": 4
}
