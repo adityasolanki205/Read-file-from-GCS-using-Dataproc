{
 "cells": [
  {
   "cell_type": "code",
   "execution_count": 1,
   "metadata": {},
   "outputs": [],
   "source": [
    "import pyspark\n",
    "from pyspark.sql import SparkSession\n",
    "from google.cloud import storage"
   ]
  },
  {
   "cell_type": "code",
   "execution_count": null,
   "metadata": {},
   "outputs": [],
   "source": [
    "appName = \"DataProc testing\"\n",
    "master = \"local\"\n",
    "spark = SparkSession.builder.\\\n",
    "        appName(appName).\\\n",
    "        master(master).\\\n",
    "        getOrCreate()     "
   ]
  },
  {
   "cell_type": "code",
   "execution_count": null,
   "metadata": {},
   "outputs": [],
   "source": [
    "df = spark \\\n",
    "      .read \\\n",
    "      .option ( \"inferSchema\" , \"true\" ) \\\n",
    "      .option ( \"header\" , \"true\" ) \\\n",
    "      .csv ( \"gs://dataproc-testing/titanic.csv\")\n",
    "print(df.show())"
   ]
  }
 ],
 "metadata": {
  "kernelspec": {
   "display_name": "Python 3",
   "language": "python",
   "name": "python3"
  },
  "language_info": {
   "codemirror_mode": {
    "name": "ipython",
    "version": 3
   },
   "file_extension": ".py",
   "mimetype": "text/x-python",
   "name": "python",
   "nbconvert_exporter": "python",
   "pygments_lexer": "ipython3",
   "version": "3.7.4"
  }
 },
 "nbformat": 4,
 "nbformat_minor": 4
}
